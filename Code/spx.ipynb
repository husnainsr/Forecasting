{
 "cells": [
  {
   "cell_type": "code",
   "execution_count": 87,
   "id": "1e8ab359-89c3-4af8-b639-6c15917651fb",
   "metadata": {
    "tags": []
   },
   "outputs": [],
   "source": [
    "import pandas as pd\n",
    "import matplotlib.pyplot as plt\n",
    "from sklearn.preprocessing import MinMaxScaler\n",
    "import numpy as np\n",
    "from statsmodels.tsa.stattools import acf, pacf\n",
    "from statsmodels.graphics.tsaplots import plot_acf, plot_pacf\n",
    "from statsmodels.tsa.arima.model import ARIMA\n",
    "from sklearn.metrics import mean_absolute_error, mean_squared_error\n",
    "from sklearn.model_selection import train_test_split\n",
    "from keras.models import Sequential\n",
    "from keras.layers import Dense\n",
    "from statsmodels.tsa.statespace.sarimax import SARIMAX\n",
    "from statsmodels.tsa.stattools import adfuller"
   ]
  },
  {
   "cell_type": "code",
   "execution_count": 51,
   "id": "a8abc20f-05a8-4f63-ab69-7fb7a6a9136b",
   "metadata": {
    "tags": []
   },
   "outputs": [],
   "source": [
    "df = pd.read_csv(r\"^SPX.csv\")"
   ]
  },
  {
   "cell_type": "code",
   "execution_count": 52,
   "id": "f55d8886-543a-4920-a06c-a6e8cea264ce",
   "metadata": {
    "tags": []
   },
   "outputs": [
    {
     "data": {
      "text/html": [
       "<div>\n",
       "<style scoped>\n",
       "    .dataframe tbody tr th:only-of-type {\n",
       "        vertical-align: middle;\n",
       "    }\n",
       "\n",
       "    .dataframe tbody tr th {\n",
       "        vertical-align: top;\n",
       "    }\n",
       "\n",
       "    .dataframe thead th {\n",
       "        text-align: right;\n",
       "    }\n",
       "</style>\n",
       "<table border=\"1\" class=\"dataframe\">\n",
       "  <thead>\n",
       "    <tr style=\"text-align: right;\">\n",
       "      <th></th>\n",
       "      <th>Date</th>\n",
       "      <th>Open</th>\n",
       "      <th>High</th>\n",
       "      <th>Low</th>\n",
       "      <th>Close</th>\n",
       "      <th>Adj Close</th>\n",
       "      <th>Volume</th>\n",
       "    </tr>\n",
       "  </thead>\n",
       "  <tbody>\n",
       "    <tr>\n",
       "      <th>0</th>\n",
       "      <td>1985-01-01</td>\n",
       "      <td>167.199997</td>\n",
       "      <td>180.270004</td>\n",
       "      <td>163.360001</td>\n",
       "      <td>179.630005</td>\n",
       "      <td>179.630005</td>\n",
       "      <td>2.673710e+09</td>\n",
       "    </tr>\n",
       "    <tr>\n",
       "      <th>1</th>\n",
       "      <td>1985-02-01</td>\n",
       "      <td>179.630005</td>\n",
       "      <td>183.949997</td>\n",
       "      <td>177.750000</td>\n",
       "      <td>181.179993</td>\n",
       "      <td>181.179993</td>\n",
       "      <td>2.194620e+09</td>\n",
       "    </tr>\n",
       "    <tr>\n",
       "      <th>2</th>\n",
       "      <td>1985-03-01</td>\n",
       "      <td>181.179993</td>\n",
       "      <td>183.889999</td>\n",
       "      <td>176.529999</td>\n",
       "      <td>180.660004</td>\n",
       "      <td>180.660004</td>\n",
       "      <td>2.153090e+09</td>\n",
       "    </tr>\n",
       "    <tr>\n",
       "      <th>3</th>\n",
       "      <td>1985-04-01</td>\n",
       "      <td>180.660004</td>\n",
       "      <td>183.610001</td>\n",
       "      <td>177.860001</td>\n",
       "      <td>179.830002</td>\n",
       "      <td>179.830002</td>\n",
       "      <td>1.981880e+09</td>\n",
       "    </tr>\n",
       "    <tr>\n",
       "      <th>4</th>\n",
       "      <td>1985-05-01</td>\n",
       "      <td>179.830002</td>\n",
       "      <td>189.979996</td>\n",
       "      <td>178.350006</td>\n",
       "      <td>189.550003</td>\n",
       "      <td>189.550003</td>\n",
       "      <td>2.350340e+09</td>\n",
       "    </tr>\n",
       "    <tr>\n",
       "      <th>...</th>\n",
       "      <td>...</td>\n",
       "      <td>...</td>\n",
       "      <td>...</td>\n",
       "      <td>...</td>\n",
       "      <td>...</td>\n",
       "      <td>...</td>\n",
       "      <td>...</td>\n",
       "    </tr>\n",
       "    <tr>\n",
       "      <th>468</th>\n",
       "      <td>2024-01-01</td>\n",
       "      <td>4745.200195</td>\n",
       "      <td>4931.089844</td>\n",
       "      <td>4682.109863</td>\n",
       "      <td>4845.649902</td>\n",
       "      <td>4845.649902</td>\n",
       "      <td>8.173788e+10</td>\n",
       "    </tr>\n",
       "    <tr>\n",
       "      <th>469</th>\n",
       "      <td>2024-02-01</td>\n",
       "      <td>4861.109863</td>\n",
       "      <td>5111.060059</td>\n",
       "      <td>4853.520020</td>\n",
       "      <td>5096.270020</td>\n",
       "      <td>5096.270020</td>\n",
       "      <td>8.206693e+10</td>\n",
       "    </tr>\n",
       "    <tr>\n",
       "      <th>470</th>\n",
       "      <td>2024-03-01</td>\n",
       "      <td>5098.509766</td>\n",
       "      <td>5264.850098</td>\n",
       "      <td>5056.819824</td>\n",
       "      <td>5254.350098</td>\n",
       "      <td>5254.350098</td>\n",
       "      <td>8.629951e+10</td>\n",
       "    </tr>\n",
       "    <tr>\n",
       "      <th>471</th>\n",
       "      <td>2024-04-01</td>\n",
       "      <td>5257.970215</td>\n",
       "      <td>5263.950195</td>\n",
       "      <td>4953.560059</td>\n",
       "      <td>5035.689941</td>\n",
       "      <td>5035.689941</td>\n",
       "      <td>8.174717e+10</td>\n",
       "    </tr>\n",
       "    <tr>\n",
       "      <th>472</th>\n",
       "      <td>2024-05-01</td>\n",
       "      <td>NaN</td>\n",
       "      <td>NaN</td>\n",
       "      <td>NaN</td>\n",
       "      <td>NaN</td>\n",
       "      <td>NaN</td>\n",
       "      <td>NaN</td>\n",
       "    </tr>\n",
       "  </tbody>\n",
       "</table>\n",
       "<p>473 rows × 7 columns</p>\n",
       "</div>"
      ],
      "text/plain": [
       "           Date         Open         High          Low        Close  \\\n",
       "0    1985-01-01   167.199997   180.270004   163.360001   179.630005   \n",
       "1    1985-02-01   179.630005   183.949997   177.750000   181.179993   \n",
       "2    1985-03-01   181.179993   183.889999   176.529999   180.660004   \n",
       "3    1985-04-01   180.660004   183.610001   177.860001   179.830002   \n",
       "4    1985-05-01   179.830002   189.979996   178.350006   189.550003   \n",
       "..          ...          ...          ...          ...          ...   \n",
       "468  2024-01-01  4745.200195  4931.089844  4682.109863  4845.649902   \n",
       "469  2024-02-01  4861.109863  5111.060059  4853.520020  5096.270020   \n",
       "470  2024-03-01  5098.509766  5264.850098  5056.819824  5254.350098   \n",
       "471  2024-04-01  5257.970215  5263.950195  4953.560059  5035.689941   \n",
       "472  2024-05-01          NaN          NaN          NaN          NaN   \n",
       "\n",
       "       Adj Close        Volume  \n",
       "0     179.630005  2.673710e+09  \n",
       "1     181.179993  2.194620e+09  \n",
       "2     180.660004  2.153090e+09  \n",
       "3     179.830002  1.981880e+09  \n",
       "4     189.550003  2.350340e+09  \n",
       "..           ...           ...  \n",
       "468  4845.649902  8.173788e+10  \n",
       "469  5096.270020  8.206693e+10  \n",
       "470  5254.350098  8.629951e+10  \n",
       "471  5035.689941  8.174717e+10  \n",
       "472          NaN           NaN  \n",
       "\n",
       "[473 rows x 7 columns]"
      ]
     },
     "execution_count": 52,
     "metadata": {},
     "output_type": "execute_result"
    }
   ],
   "source": [
    "df"
   ]
  },
  {
   "cell_type": "markdown",
   "id": "421eca70-64f2-4aa9-92f7-4a67ccdf8436",
   "metadata": {},
   "source": [
    "## PRE PROCESSING"
   ]
  },
  {
   "cell_type": "code",
   "execution_count": 53,
   "id": "cc0ca88d-d1db-441a-8a37-9889a16b9ef7",
   "metadata": {
    "tags": []
   },
   "outputs": [
    {
     "name": "stdout",
     "output_type": "stream",
     "text": [
      "<class 'pandas.core.frame.DataFrame'>\n",
      "RangeIndex: 473 entries, 0 to 472\n",
      "Data columns (total 7 columns):\n",
      " #   Column     Non-Null Count  Dtype  \n",
      "---  ------     --------------  -----  \n",
      " 0   Date       473 non-null    object \n",
      " 1   Open       472 non-null    float64\n",
      " 2   High       472 non-null    float64\n",
      " 3   Low        472 non-null    float64\n",
      " 4   Close      472 non-null    float64\n",
      " 5   Adj Close  472 non-null    float64\n",
      " 6   Volume     472 non-null    float64\n",
      "dtypes: float64(6), object(1)\n",
      "memory usage: 26.0+ KB\n"
     ]
    }
   ],
   "source": [
    "df.info()"
   ]
  },
  {
   "cell_type": "code",
   "execution_count": 54,
   "id": "eadb91b7-f92c-430c-bb9b-d5067ccbf1b3",
   "metadata": {
    "tags": []
   },
   "outputs": [
    {
     "data": {
      "text/plain": [
       "Date         0\n",
       "Open         1\n",
       "High         1\n",
       "Low          1\n",
       "Close        1\n",
       "Adj Close    1\n",
       "Volume       1\n",
       "dtype: int64"
      ]
     },
     "execution_count": 54,
     "metadata": {},
     "output_type": "execute_result"
    }
   ],
   "source": [
    "df.isna().sum()"
   ]
  },
  {
   "cell_type": "code",
   "execution_count": 55,
   "id": "b7f62603-5ac2-4976-9a46-24a0b8abd1c3",
   "metadata": {
    "tags": []
   },
   "outputs": [],
   "source": [
    "df.dropna(inplace=True)"
   ]
  },
  {
   "cell_type": "code",
   "execution_count": 56,
   "id": "90c08621-832b-4ff7-9362-3cdd83bf10d9",
   "metadata": {
    "tags": []
   },
   "outputs": [
    {
     "data": {
      "text/plain": [
       "Date         0\n",
       "Open         0\n",
       "High         0\n",
       "Low          0\n",
       "Close        0\n",
       "Adj Close    0\n",
       "Volume       0\n",
       "dtype: int64"
      ]
     },
     "execution_count": 56,
     "metadata": {},
     "output_type": "execute_result"
    }
   ],
   "source": [
    "df.isna().sum()"
   ]
  },
  {
   "cell_type": "markdown",
   "id": "7b095935-df00-44b9-9e8e-6391b7f80e82",
   "metadata": {},
   "source": [
    "## NORMALIZATION"
   ]
  },
  {
   "cell_type": "code",
   "execution_count": 57,
   "id": "1435c3e2-030d-4fb6-9c0c-f5bfdbf51991",
   "metadata": {
    "tags": []
   },
   "outputs": [
    {
     "data": {
      "text/html": [
       "<div>\n",
       "<style scoped>\n",
       "    .dataframe tbody tr th:only-of-type {\n",
       "        vertical-align: middle;\n",
       "    }\n",
       "\n",
       "    .dataframe tbody tr th {\n",
       "        vertical-align: top;\n",
       "    }\n",
       "\n",
       "    .dataframe thead th {\n",
       "        text-align: right;\n",
       "    }\n",
       "</style>\n",
       "<table border=\"1\" class=\"dataframe\">\n",
       "  <thead>\n",
       "    <tr style=\"text-align: right;\">\n",
       "      <th></th>\n",
       "      <th>Open</th>\n",
       "      <th>High</th>\n",
       "      <th>Low</th>\n",
       "      <th>Close</th>\n",
       "      <th>Adj Close</th>\n",
       "      <th>Volume</th>\n",
       "    </tr>\n",
       "  </thead>\n",
       "  <tbody>\n",
       "    <tr>\n",
       "      <th>count</th>\n",
       "      <td>472.000000</td>\n",
       "      <td>472.000000</td>\n",
       "      <td>472.000000</td>\n",
       "      <td>472.000000</td>\n",
       "      <td>472.000000</td>\n",
       "      <td>4.720000e+02</td>\n",
       "    </tr>\n",
       "    <tr>\n",
       "      <th>mean</th>\n",
       "      <td>1439.974023</td>\n",
       "      <td>1489.312628</td>\n",
       "      <td>1390.076970</td>\n",
       "      <td>1449.396058</td>\n",
       "      <td>1449.396058</td>\n",
       "      <td>4.573510e+10</td>\n",
       "    </tr>\n",
       "    <tr>\n",
       "      <th>std</th>\n",
       "      <td>1149.495762</td>\n",
       "      <td>1189.478176</td>\n",
       "      <td>1109.672548</td>\n",
       "      <td>1158.195428</td>\n",
       "      <td>1158.195428</td>\n",
       "      <td>3.854485e+10</td>\n",
       "    </tr>\n",
       "    <tr>\n",
       "      <th>min</th>\n",
       "      <td>167.199997</td>\n",
       "      <td>180.270004</td>\n",
       "      <td>163.360001</td>\n",
       "      <td>179.630005</td>\n",
       "      <td>179.630005</td>\n",
       "      <td>1.860160e+09</td>\n",
       "    </tr>\n",
       "    <tr>\n",
       "      <th>25%</th>\n",
       "      <td>469.772506</td>\n",
       "      <td>477.064995</td>\n",
       "      <td>460.705009</td>\n",
       "      <td>471.867508</td>\n",
       "      <td>471.867508</td>\n",
       "      <td>6.349822e+09</td>\n",
       "    </tr>\n",
       "    <tr>\n",
       "      <th>50%</th>\n",
       "      <td>1180.929993</td>\n",
       "      <td>1219.695007</td>\n",
       "      <td>1129.734985</td>\n",
       "      <td>1180.929993</td>\n",
       "      <td>1180.929993</td>\n",
       "      <td>3.158255e+10</td>\n",
       "    </tr>\n",
       "    <tr>\n",
       "      <th>75%</th>\n",
       "      <td>1920.705017</td>\n",
       "      <td>1964.262482</td>\n",
       "      <td>1824.105011</td>\n",
       "      <td>1925.344971</td>\n",
       "      <td>1925.344971</td>\n",
       "      <td>7.957303e+10</td>\n",
       "    </tr>\n",
       "    <tr>\n",
       "      <th>max</th>\n",
       "      <td>5257.970215</td>\n",
       "      <td>5264.850098</td>\n",
       "      <td>5056.819824</td>\n",
       "      <td>5254.350098</td>\n",
       "      <td>5254.350098</td>\n",
       "      <td>1.621854e+11</td>\n",
       "    </tr>\n",
       "  </tbody>\n",
       "</table>\n",
       "</div>"
      ],
      "text/plain": [
       "              Open         High          Low        Close    Adj Close  \\\n",
       "count   472.000000   472.000000   472.000000   472.000000   472.000000   \n",
       "mean   1439.974023  1489.312628  1390.076970  1449.396058  1449.396058   \n",
       "std    1149.495762  1189.478176  1109.672548  1158.195428  1158.195428   \n",
       "min     167.199997   180.270004   163.360001   179.630005   179.630005   \n",
       "25%     469.772506   477.064995   460.705009   471.867508   471.867508   \n",
       "50%    1180.929993  1219.695007  1129.734985  1180.929993  1180.929993   \n",
       "75%    1920.705017  1964.262482  1824.105011  1925.344971  1925.344971   \n",
       "max    5257.970215  5264.850098  5056.819824  5254.350098  5254.350098   \n",
       "\n",
       "             Volume  \n",
       "count  4.720000e+02  \n",
       "mean   4.573510e+10  \n",
       "std    3.854485e+10  \n",
       "min    1.860160e+09  \n",
       "25%    6.349822e+09  \n",
       "50%    3.158255e+10  \n",
       "75%    7.957303e+10  \n",
       "max    1.621854e+11  "
      ]
     },
     "execution_count": 57,
     "metadata": {},
     "output_type": "execute_result"
    }
   ],
   "source": [
    "df.describe()"
   ]
  },
  {
   "cell_type": "code",
   "execution_count": 58,
   "id": "6fba0541-f1b1-4060-bba1-71ffe18fd356",
   "metadata": {
    "tags": []
   },
   "outputs": [
    {
     "data": {
      "image/png": "[encoded data removed]",
      "text/plain": [
       "<Figure size 1200x1000 with 6 Axes>"
      ]
     },
     "metadata": {},
     "output_type": "display_data"
    }
   ],
   "source": [
    "fig, axes = plt.subplots(nrows=3, ncols=2, figsize=(12, 10))\n",
    "axes = axes.flatten()\n",
    "numerical_columns = ['Open', 'High', 'Low', 'Close', 'Adj Close', 'Volume']\n",
    "for i, column in enumerate(numerical_columns):\n",
    "    ax = axes[i]\n",
    "    ax.hist(df[column], bins=30, color='skyblue', edgecolor='black')\n",
    "    ax.set_title(f'Distribution of {column}')\n",
    "    ax.set_xlabel(column)\n",
    "    ax.set_ylabel('Frequency')\n",
    "\n",
    "plt.tight_layout()\n",
    "plt.show()"
   ]
  },
  {
   "cell_type": "code",
   "execution_count": 59,
   "id": "8a319020-5e22-4b3f-85a8-39bdcbba0954",
   "metadata": {
    "tags": []
   },
   "outputs": [],
   "source": [
    "numerical_columns = ['Open', 'High', 'Low', 'Close', 'Adj Close', 'Volume']\n",
    "data_to_normalize = df[numerical_columns]\n",
    "scaler = MinMaxScaler()\n",
    "normalized_data = scaler.fit_transform(data_to_normalize)\n",
    "normalized_df = pd.DataFrame(normalized_data, columns=numerical_columns)"
   ]
  },
  {
   "cell_type": "code",
   "execution_count": 60,
   "id": "c3c08690-25a8-473a-8ac0-1187619c14a9",
   "metadata": {
    "tags": []
   },
   "outputs": [
    {
     "data": {
      "text/html": [
       "<div>\n",
       "<style scoped>\n",
       "    .dataframe tbody tr th:only-of-type {\n",
       "        vertical-align: middle;\n",
       "    }\n",
       "\n",
       "    .dataframe tbody tr th {\n",
       "        vertical-align: top;\n",
       "    }\n",
       "\n",
       "    .dataframe thead th {\n",
       "        text-align: right;\n",
       "    }\n",
       "</style>\n",
       "<table border=\"1\" class=\"dataframe\">\n",
       "  <thead>\n",
       "    <tr style=\"text-align: right;\">\n",
       "      <th></th>\n",
       "      <th>Open</th>\n",
       "      <th>High</th>\n",
       "      <th>Low</th>\n",
       "      <th>Close</th>\n",
       "      <th>Adj Close</th>\n",
       "      <th>Volume</th>\n",
       "    </tr>\n",
       "  </thead>\n",
       "  <tbody>\n",
       "    <tr>\n",
       "      <th>0</th>\n",
       "      <td>0.000000</td>\n",
       "      <td>0.000000</td>\n",
       "      <td>0.000000</td>\n",
       "      <td>0.000000</td>\n",
       "      <td>0.000000</td>\n",
       "      <td>0.005074</td>\n",
       "    </tr>\n",
       "    <tr>\n",
       "      <th>1</th>\n",
       "      <td>0.002442</td>\n",
       "      <td>0.000724</td>\n",
       "      <td>0.002941</td>\n",
       "      <td>0.000305</td>\n",
       "      <td>0.000305</td>\n",
       "      <td>0.002086</td>\n",
       "    </tr>\n",
       "    <tr>\n",
       "      <th>2</th>\n",
       "      <td>0.002746</td>\n",
       "      <td>0.000712</td>\n",
       "      <td>0.002691</td>\n",
       "      <td>0.000203</td>\n",
       "      <td>0.000203</td>\n",
       "      <td>0.001827</td>\n",
       "    </tr>\n",
       "    <tr>\n",
       "      <th>3</th>\n",
       "      <td>0.002644</td>\n",
       "      <td>0.000657</td>\n",
       "      <td>0.002963</td>\n",
       "      <td>0.000039</td>\n",
       "      <td>0.000039</td>\n",
       "      <td>0.000759</td>\n",
       "    </tr>\n",
       "    <tr>\n",
       "      <th>4</th>\n",
       "      <td>0.002481</td>\n",
       "      <td>0.001910</td>\n",
       "      <td>0.003063</td>\n",
       "      <td>0.001955</td>\n",
       "      <td>0.001955</td>\n",
       "      <td>0.003057</td>\n",
       "    </tr>\n",
       "    <tr>\n",
       "      <th>...</th>\n",
       "      <td>...</td>\n",
       "      <td>...</td>\n",
       "      <td>...</td>\n",
       "      <td>...</td>\n",
       "      <td>...</td>\n",
       "      <td>...</td>\n",
       "    </tr>\n",
       "    <tr>\n",
       "      <th>467</th>\n",
       "      <td>0.862783</td>\n",
       "      <td>0.907259</td>\n",
       "      <td>0.895714</td>\n",
       "      <td>0.904523</td>\n",
       "      <td>0.904523</td>\n",
       "      <td>0.496931</td>\n",
       "    </tr>\n",
       "    <tr>\n",
       "      <th>468</th>\n",
       "      <td>0.899275</td>\n",
       "      <td>0.934358</td>\n",
       "      <td>0.923426</td>\n",
       "      <td>0.919463</td>\n",
       "      <td>0.919463</td>\n",
       "      <td>0.498223</td>\n",
       "    </tr>\n",
       "    <tr>\n",
       "      <th>469</th>\n",
       "      <td>0.922043</td>\n",
       "      <td>0.969754</td>\n",
       "      <td>0.958455</td>\n",
       "      <td>0.968849</td>\n",
       "      <td>0.968849</td>\n",
       "      <td>0.500275</td>\n",
       "    </tr>\n",
       "    <tr>\n",
       "      <th>470</th>\n",
       "      <td>0.968677</td>\n",
       "      <td>1.000000</td>\n",
       "      <td>1.000000</td>\n",
       "      <td>1.000000</td>\n",
       "      <td>1.000000</td>\n",
       "      <td>0.526675</td>\n",
       "    </tr>\n",
       "    <tr>\n",
       "      <th>471</th>\n",
       "      <td>1.000000</td>\n",
       "      <td>0.999823</td>\n",
       "      <td>0.978898</td>\n",
       "      <td>0.956912</td>\n",
       "      <td>0.956912</td>\n",
       "      <td>0.498281</td>\n",
       "    </tr>\n",
       "  </tbody>\n",
       "</table>\n",
       "<p>472 rows × 6 columns</p>\n",
       "</div>"
      ],
      "text/plain": [
       "         Open      High       Low     Close  Adj Close    Volume\n",
       "0    0.000000  0.000000  0.000000  0.000000   0.000000  0.005074\n",
       "1    0.002442  0.000724  0.002941  0.000305   0.000305  0.002086\n",
       "2    0.002746  0.000712  0.002691  0.000203   0.000203  0.001827\n",
       "3    0.002644  0.000657  0.002963  0.000039   0.000039  0.000759\n",
       "4    0.002481  0.001910  0.003063  0.001955   0.001955  0.003057\n",
       "..        ...       ...       ...       ...        ...       ...\n",
       "467  0.862783  0.907259  0.895714  0.904523   0.904523  0.496931\n",
       "468  0.899275  0.934358  0.923426  0.919463   0.919463  0.498223\n",
       "469  0.922043  0.969754  0.958455  0.968849   0.968849  0.500275\n",
       "470  0.968677  1.000000  1.000000  1.000000   1.000000  0.526675\n",
       "471  1.000000  0.999823  0.978898  0.956912   0.956912  0.498281\n",
       "\n",
       "[472 rows x 6 columns]"
      ]
     },
     "execution_count": 60,
     "metadata": {},
     "output_type": "execute_result"
    }
   ],
   "source": [
    "normalized_df"
   ]
  },
  {
   "cell_type": "code",
   "execution_count": 61,
   "id": "e1e910f9-b04e-4da9-a0e2-0f55de273036",
   "metadata": {
    "tags": []
   },
   "outputs": [],
   "source": [
    "normalized_df['Date'] = df['Date']"
   ]
  },
  {
   "cell_type": "code",
   "execution_count": 62,
   "id": "a9098cf1-3007-4955-aa9e-e20bacfa0f98",
   "metadata": {
    "tags": []
   },
   "outputs": [
    {
     "data": {
      "text/html": [
       "<div>\n",
       "<style scoped>\n",
       "    .dataframe tbody tr th:only-of-type {\n",
       "        vertical-align: middle;\n",
       "    }\n",
       "\n",
       "    .dataframe tbody tr th {\n",
       "        vertical-align: top;\n",
       "    }\n",
       "\n",
       "    .dataframe thead th {\n",
       "        text-align: right;\n",
       "    }\n",
       "</style>\n",
       "<table border=\"1\" class=\"dataframe\">\n",
       "  <thead>\n",
       "    <tr style=\"text-align: right;\">\n",
       "      <th></th>\n",
       "      <th>Open</th>\n",
       "      <th>High</th>\n",
       "      <th>Low</th>\n",
       "      <th>Close</th>\n",
       "      <th>Adj Close</th>\n",
       "      <th>Volume</th>\n",
       "      <th>Date</th>\n",
       "    </tr>\n",
       "  </thead>\n",
       "  <tbody>\n",
       "    <tr>\n",
       "      <th>0</th>\n",
       "      <td>0.000000</td>\n",
       "      <td>0.000000</td>\n",
       "      <td>0.000000</td>\n",
       "      <td>0.000000</td>\n",
       "      <td>0.000000</td>\n",
       "      <td>0.005074</td>\n",
       "      <td>1985-01-01</td>\n",
       "    </tr>\n",
       "    <tr>\n",
       "      <th>1</th>\n",
       "      <td>0.002442</td>\n",
       "      <td>0.000724</td>\n",
       "      <td>0.002941</td>\n",
       "      <td>0.000305</td>\n",
       "      <td>0.000305</td>\n",
       "      <td>0.002086</td>\n",
       "      <td>1985-02-01</td>\n",
       "    </tr>\n",
       "    <tr>\n",
       "      <th>2</th>\n",
       "      <td>0.002746</td>\n",
       "      <td>0.000712</td>\n",
       "      <td>0.002691</td>\n",
       "      <td>0.000203</td>\n",
       "      <td>0.000203</td>\n",
       "      <td>0.001827</td>\n",
       "      <td>1985-03-01</td>\n",
       "    </tr>\n",
       "    <tr>\n",
       "      <th>3</th>\n",
       "      <td>0.002644</td>\n",
       "      <td>0.000657</td>\n",
       "      <td>0.002963</td>\n",
       "      <td>0.000039</td>\n",
       "      <td>0.000039</td>\n",
       "      <td>0.000759</td>\n",
       "      <td>1985-04-01</td>\n",
       "    </tr>\n",
       "    <tr>\n",
       "      <th>4</th>\n",
       "      <td>0.002481</td>\n",
       "      <td>0.001910</td>\n",
       "      <td>0.003063</td>\n",
       "      <td>0.001955</td>\n",
       "      <td>0.001955</td>\n",
       "      <td>0.003057</td>\n",
       "      <td>1985-05-01</td>\n",
       "    </tr>\n",
       "    <tr>\n",
       "      <th>...</th>\n",
       "      <td>...</td>\n",
       "      <td>...</td>\n",
       "      <td>...</td>\n",
       "      <td>...</td>\n",
       "      <td>...</td>\n",
       "      <td>...</td>\n",
       "      <td>...</td>\n",
       "    </tr>\n",
       "    <tr>\n",
       "      <th>467</th>\n",
       "      <td>0.862783</td>\n",
       "      <td>0.907259</td>\n",
       "      <td>0.895714</td>\n",
       "      <td>0.904523</td>\n",
       "      <td>0.904523</td>\n",
       "      <td>0.496931</td>\n",
       "      <td>2023-12-01</td>\n",
       "    </tr>\n",
       "    <tr>\n",
       "      <th>468</th>\n",
       "      <td>0.899275</td>\n",
       "      <td>0.934358</td>\n",
       "      <td>0.923426</td>\n",
       "      <td>0.919463</td>\n",
       "      <td>0.919463</td>\n",
       "      <td>0.498223</td>\n",
       "      <td>2024-01-01</td>\n",
       "    </tr>\n",
       "    <tr>\n",
       "      <th>469</th>\n",
       "      <td>0.922043</td>\n",
       "      <td>0.969754</td>\n",
       "      <td>0.958455</td>\n",
       "      <td>0.968849</td>\n",
       "      <td>0.968849</td>\n",
       "      <td>0.500275</td>\n",
       "      <td>2024-02-01</td>\n",
       "    </tr>\n",
       "    <tr>\n",
       "      <th>470</th>\n",
       "      <td>0.968677</td>\n",
       "      <td>1.000000</td>\n",
       "      <td>1.000000</td>\n",
       "      <td>1.000000</td>\n",
       "      <td>1.000000</td>\n",
       "      <td>0.526675</td>\n",
       "      <td>2024-03-01</td>\n",
       "    </tr>\n",
       "    <tr>\n",
       "      <th>471</th>\n",
       "      <td>1.000000</td>\n",
       "      <td>0.999823</td>\n",
       "      <td>0.978898</td>\n",
       "      <td>0.956912</td>\n",
       "      <td>0.956912</td>\n",
       "      <td>0.498281</td>\n",
       "      <td>2024-04-01</td>\n",
       "    </tr>\n",
       "  </tbody>\n",
       "</table>\n",
       "<p>472 rows × 7 columns</p>\n",
       "</div>"
      ],
      "text/plain": [
       "         Open      High       Low     Close  Adj Close    Volume        Date\n",
       "0    0.000000  0.000000  0.000000  0.000000   0.000000  0.005074  1985-01-01\n",
       "1    0.002442  0.000724  0.002941  0.000305   0.000305  0.002086  1985-02-01\n",
       "2    0.002746  0.000712  0.002691  0.000203   0.000203  0.001827  1985-03-01\n",
       "3    0.002644  0.000657  0.002963  0.000039   0.000039  0.000759  1985-04-01\n",
       "4    0.002481  0.001910  0.003063  0.001955   0.001955  0.003057  1985-05-01\n",
       "..        ...       ...       ...       ...        ...       ...         ...\n",
       "467  0.862783  0.907259  0.895714  0.904523   0.904523  0.496931  2023-12-01\n",
       "468  0.899275  0.934358  0.923426  0.919463   0.919463  0.498223  2024-01-01\n",
       "469  0.922043  0.969754  0.958455  0.968849   0.968849  0.500275  2024-02-01\n",
       "470  0.968677  1.000000  1.000000  1.000000   1.000000  0.526675  2024-03-01\n",
       "471  1.000000  0.999823  0.978898  0.956912   0.956912  0.498281  2024-04-01\n",
       "\n",
       "[472 rows x 7 columns]"
      ]
     },
     "execution_count": 62,
     "metadata": {},
     "output_type": "execute_result"
    }
   ],
   "source": [
    "normalized_df"
   ]
  },
  {
   "cell_type": "markdown",
   "id": "5fcee3bf-7f42-463e-a74b-f79935b4e794",
   "metadata": {},
   "source": [
    "## Stationarization\n",
    "\n",
    "### Differencing"
   ]
  },
  {
   "cell_type": "code",
   "execution_count": 63,
   "id": "ec26b4cb-fbfc-480c-8cc0-22a15161c495",
   "metadata": {
    "tags": []
   },
   "outputs": [],
   "source": [
    "numerical_columns = ['Open', 'High', 'Low', 'Close', 'Adj Close', 'Volume']\n",
    "for column in numerical_columns:\n",
    "    normalized_df[f'{column}_diff'] = normalized_df[column].diff()"
   ]
  },
  {
   "cell_type": "markdown",
   "id": "b0bdc2f8-f4ad-42e7-83d5-d1ec8a3061db",
   "metadata": {},
   "source": [
    "### Logarithmic"
   ]
  },
  {
   "cell_type": "code",
   "execution_count": 64,
   "id": "6573ee4a-32fd-4bdd-a4c9-d6c770f91244",
   "metadata": {
    "tags": []
   },
   "outputs": [],
   "source": [
    "for column in numerical_columns:\n",
    "    normalized_df[f'{column}_log'] = normalized_df[column].apply(lambda x: np.log(x) if x != 0 else 0)"
   ]
  },
  {
   "cell_type": "code",
   "execution_count": 65,
   "id": "7c48ff25-d2d8-46c7-8a3e-aa0ad6d50b7f",
   "metadata": {
    "tags": []
   },
   "outputs": [
    {
     "data": {
      "text/html": [
       "<div>\n",
       "<style scoped>\n",
       "    .dataframe tbody tr th:only-of-type {\n",
       "        vertical-align: middle;\n",
       "    }\n",
       "\n",
       "    .dataframe tbody tr th {\n",
       "        vertical-align: top;\n",
       "    }\n",
       "\n",
       "    .dataframe thead th {\n",
       "        text-align: right;\n",
       "    }\n",
       "</style>\n",
       "<table border=\"1\" class=\"dataframe\">\n",
       "  <thead>\n",
       "    <tr style=\"text-align: right;\">\n",
       "      <th></th>\n",
       "      <th>Open</th>\n",
       "      <th>High</th>\n",
       "      <th>Low</th>\n",
       "      <th>Close</th>\n",
       "      <th>Adj Close</th>\n",
       "      <th>Volume</th>\n",
       "      <th>Date</th>\n",
       "      <th>Open_diff</th>\n",
       "      <th>High_diff</th>\n",
       "      <th>Low_diff</th>\n",
       "      <th>Close_diff</th>\n",
       "      <th>Adj Close_diff</th>\n",
       "      <th>Volume_diff</th>\n",
       "      <th>Open_log</th>\n",
       "      <th>High_log</th>\n",
       "      <th>Low_log</th>\n",
       "      <th>Close_log</th>\n",
       "      <th>Adj Close_log</th>\n",
       "      <th>Volume_log</th>\n",
       "    </tr>\n",
       "  </thead>\n",
       "  <tbody>\n",
       "    <tr>\n",
       "      <th>0</th>\n",
       "      <td>0.000000</td>\n",
       "      <td>0.000000</td>\n",
       "      <td>0.000000</td>\n",
       "      <td>0.000000</td>\n",
       "      <td>0.000000</td>\n",
       "      <td>0.005074</td>\n",
       "      <td>1985-01-01</td>\n",
       "      <td>NaN</td>\n",
       "      <td>NaN</td>\n",
       "      <td>NaN</td>\n",
       "      <td>NaN</td>\n",
       "      <td>NaN</td>\n",
       "      <td>NaN</td>\n",
       "      <td>0.000000</td>\n",
       "      <td>0.000000</td>\n",
       "      <td>0.000000</td>\n",
       "      <td>0.000000e+00</td>\n",
       "      <td>0.000000e+00</td>\n",
       "      <td>-5.283552</td>\n",
       "    </tr>\n",
       "    <tr>\n",
       "      <th>1</th>\n",
       "      <td>0.002442</td>\n",
       "      <td>0.000724</td>\n",
       "      <td>0.002941</td>\n",
       "      <td>0.000305</td>\n",
       "      <td>0.000305</td>\n",
       "      <td>0.002086</td>\n",
       "      <td>1985-02-01</td>\n",
       "      <td>0.002442</td>\n",
       "      <td>0.000724</td>\n",
       "      <td>0.002941</td>\n",
       "      <td>0.000305</td>\n",
       "      <td>0.000305</td>\n",
       "      <td>-0.002988</td>\n",
       "      <td>-6.015071</td>\n",
       "      <td>-7.231057</td>\n",
       "      <td>-5.829121</td>\n",
       "      <td>-8.093779e+00</td>\n",
       "      <td>-8.093779e+00</td>\n",
       "      <td>-6.172442</td>\n",
       "    </tr>\n",
       "    <tr>\n",
       "      <th>2</th>\n",
       "      <td>0.002746</td>\n",
       "      <td>0.000712</td>\n",
       "      <td>0.002691</td>\n",
       "      <td>0.000203</td>\n",
       "      <td>0.000203</td>\n",
       "      <td>0.001827</td>\n",
       "      <td>1985-03-01</td>\n",
       "      <td>0.000304</td>\n",
       "      <td>-0.000012</td>\n",
       "      <td>-0.000249</td>\n",
       "      <td>-0.000102</td>\n",
       "      <td>-0.000102</td>\n",
       "      <td>-0.000259</td>\n",
       "      <td>-5.897557</td>\n",
       "      <td>-7.247495</td>\n",
       "      <td>-5.917713</td>\n",
       "      <td>-8.502469e+00</td>\n",
       "      <td>-8.502469e+00</td>\n",
       "      <td>-6.305026</td>\n",
       "    </tr>\n",
       "    <tr>\n",
       "      <th>3</th>\n",
       "      <td>0.002644</td>\n",
       "      <td>0.000657</td>\n",
       "      <td>0.002963</td>\n",
       "      <td>0.000039</td>\n",
       "      <td>0.000039</td>\n",
       "      <td>0.000759</td>\n",
       "      <td>1985-04-01</td>\n",
       "      <td>-0.000102</td>\n",
       "      <td>-0.000055</td>\n",
       "      <td>0.000272</td>\n",
       "      <td>-0.000164</td>\n",
       "      <td>-0.000164</td>\n",
       "      <td>-0.001068</td>\n",
       "      <td>-5.935462</td>\n",
       "      <td>-7.327998</td>\n",
       "      <td>-5.821506</td>\n",
       "      <td>-1.014148e+01</td>\n",
       "      <td>-1.014148e+01</td>\n",
       "      <td>-7.183236</td>\n",
       "    </tr>\n",
       "    <tr>\n",
       "      <th>4</th>\n",
       "      <td>0.002481</td>\n",
       "      <td>0.001910</td>\n",
       "      <td>0.003063</td>\n",
       "      <td>0.001955</td>\n",
       "      <td>0.001955</td>\n",
       "      <td>0.003057</td>\n",
       "      <td>1985-05-01</td>\n",
       "      <td>-0.000163</td>\n",
       "      <td>0.001253</td>\n",
       "      <td>0.000100</td>\n",
       "      <td>0.001915</td>\n",
       "      <td>0.001915</td>\n",
       "      <td>0.002298</td>\n",
       "      <td>-5.999109</td>\n",
       "      <td>-6.260812</td>\n",
       "      <td>-5.788271</td>\n",
       "      <td>-6.237474e+00</td>\n",
       "      <td>-6.237474e+00</td>\n",
       "      <td>-5.790187</td>\n",
       "    </tr>\n",
       "    <tr>\n",
       "      <th>...</th>\n",
       "      <td>...</td>\n",
       "      <td>...</td>\n",
       "      <td>...</td>\n",
       "      <td>...</td>\n",
       "      <td>...</td>\n",
       "      <td>...</td>\n",
       "      <td>...</td>\n",
       "      <td>...</td>\n",
       "      <td>...</td>\n",
       "      <td>...</td>\n",
       "      <td>...</td>\n",
       "      <td>...</td>\n",
       "      <td>...</td>\n",
       "      <td>...</td>\n",
       "      <td>...</td>\n",
       "      <td>...</td>\n",
       "      <td>...</td>\n",
       "      <td>...</td>\n",
       "      <td>...</td>\n",
       "    </tr>\n",
       "    <tr>\n",
       "      <th>467</th>\n",
       "      <td>0.862783</td>\n",
       "      <td>0.907259</td>\n",
       "      <td>0.895714</td>\n",
       "      <td>0.904523</td>\n",
       "      <td>0.904523</td>\n",
       "      <td>0.496931</td>\n",
       "      <td>2023-12-01</td>\n",
       "      <td>0.070355</td>\n",
       "      <td>0.040448</td>\n",
       "      <td>0.071271</td>\n",
       "      <td>0.039811</td>\n",
       "      <td>0.039811</td>\n",
       "      <td>0.003494</td>\n",
       "      <td>-0.147592</td>\n",
       "      <td>-0.097328</td>\n",
       "      <td>-0.110134</td>\n",
       "      <td>-1.003478e-01</td>\n",
       "      <td>-1.003478e-01</td>\n",
       "      <td>-0.699305</td>\n",
       "    </tr>\n",
       "    <tr>\n",
       "      <th>468</th>\n",
       "      <td>0.899275</td>\n",
       "      <td>0.934358</td>\n",
       "      <td>0.923426</td>\n",
       "      <td>0.919463</td>\n",
       "      <td>0.919463</td>\n",
       "      <td>0.498223</td>\n",
       "      <td>2024-01-01</td>\n",
       "      <td>0.036492</td>\n",
       "      <td>0.027100</td>\n",
       "      <td>0.027712</td>\n",
       "      <td>0.014941</td>\n",
       "      <td>0.014941</td>\n",
       "      <td>0.001292</td>\n",
       "      <td>-0.106167</td>\n",
       "      <td>-0.067895</td>\n",
       "      <td>-0.079664</td>\n",
       "      <td>-8.396493e-02</td>\n",
       "      <td>-8.396493e-02</td>\n",
       "      <td>-0.696707</td>\n",
       "    </tr>\n",
       "    <tr>\n",
       "      <th>469</th>\n",
       "      <td>0.922043</td>\n",
       "      <td>0.969754</td>\n",
       "      <td>0.958455</td>\n",
       "      <td>0.968849</td>\n",
       "      <td>0.968849</td>\n",
       "      <td>0.500275</td>\n",
       "      <td>2024-02-01</td>\n",
       "      <td>0.022769</td>\n",
       "      <td>0.035395</td>\n",
       "      <td>0.035028</td>\n",
       "      <td>0.049386</td>\n",
       "      <td>0.049386</td>\n",
       "      <td>0.002052</td>\n",
       "      <td>-0.081163</td>\n",
       "      <td>-0.030713</td>\n",
       "      <td>-0.042433</td>\n",
       "      <td>-3.164600e-02</td>\n",
       "      <td>-3.164600e-02</td>\n",
       "      <td>-0.692596</td>\n",
       "    </tr>\n",
       "    <tr>\n",
       "      <th>470</th>\n",
       "      <td>0.968677</td>\n",
       "      <td>1.000000</td>\n",
       "      <td>1.000000</td>\n",
       "      <td>1.000000</td>\n",
       "      <td>1.000000</td>\n",
       "      <td>0.526675</td>\n",
       "      <td>2024-03-01</td>\n",
       "      <td>0.046633</td>\n",
       "      <td>0.030246</td>\n",
       "      <td>0.041545</td>\n",
       "      <td>0.031151</td>\n",
       "      <td>0.031151</td>\n",
       "      <td>0.026400</td>\n",
       "      <td>-0.031825</td>\n",
       "      <td>0.000000</td>\n",
       "      <td>0.000000</td>\n",
       "      <td>-1.110223e-16</td>\n",
       "      <td>-1.110223e-16</td>\n",
       "      <td>-0.641171</td>\n",
       "    </tr>\n",
       "    <tr>\n",
       "      <th>471</th>\n",
       "      <td>1.000000</td>\n",
       "      <td>0.999823</td>\n",
       "      <td>0.978898</td>\n",
       "      <td>0.956912</td>\n",
       "      <td>0.956912</td>\n",
       "      <td>0.498281</td>\n",
       "      <td>2024-04-01</td>\n",
       "      <td>0.031323</td>\n",
       "      <td>-0.000177</td>\n",
       "      <td>-0.021102</td>\n",
       "      <td>-0.043088</td>\n",
       "      <td>-0.043088</td>\n",
       "      <td>-0.028394</td>\n",
       "      <td>0.000000</td>\n",
       "      <td>-0.000177</td>\n",
       "      <td>-0.021327</td>\n",
       "      <td>-4.404397e-02</td>\n",
       "      <td>-4.404397e-02</td>\n",
       "      <td>-0.696591</td>\n",
       "    </tr>\n",
       "  </tbody>\n",
       "</table>\n",
       "<p>472 rows × 19 columns</p>\n",
       "</div>"
      ],
      "text/plain": [
       "         Open      High       Low     Close  Adj Close    Volume        Date  \\\n",
       "0    0.000000  0.000000  0.000000  0.000000   0.000000  0.005074  1985-01-01   \n",
       "1    0.002442  0.000724  0.002941  0.000305   0.000305  0.002086  1985-02-01   \n",
       "2    0.002746  0.000712  0.002691  0.000203   0.000203  0.001827  1985-03-01   \n",
       "3    0.002644  0.000657  0.002963  0.000039   0.000039  0.000759  1985-04-01   \n",
       "4    0.002481  0.001910  0.003063  0.001955   0.001955  0.003057  1985-05-01   \n",
       "..        ...       ...       ...       ...        ...       ...         ...   \n",
       "467  0.862783  0.907259  0.895714  0.904523   0.904523  0.496931  2023-12-01   \n",
       "468  0.899275  0.934358  0.923426  0.919463   0.919463  0.498223  2024-01-01   \n",
       "469  0.922043  0.969754  0.958455  0.968849   0.968849  0.500275  2024-02-01   \n",
       "470  0.968677  1.000000  1.000000  1.000000   1.000000  0.526675  2024-03-01   \n",
       "471  1.000000  0.999823  0.978898  0.956912   0.956912  0.498281  2024-04-01   \n",
       "\n",
       "     Open_diff  High_diff  Low_diff  Close_diff  Adj Close_diff  Volume_diff  \\\n",
       "0          NaN        NaN       NaN         NaN             NaN          NaN   \n",
       "1     0.002442   0.000724  0.002941    0.000305        0.000305    -0.002988   \n",
       "2     0.000304  -0.000012 -0.000249   -0.000102       -0.000102    -0.000259   \n",
       "3    -0.000102  -0.000055  0.000272   -0.000164       -0.000164    -0.001068   \n",
       "4    -0.000163   0.001253  0.000100    0.001915        0.001915     0.002298   \n",
       "..         ...        ...       ...         ...             ...          ...   \n",
       "467   0.070355   0.040448  0.071271    0.039811        0.039811     0.003494   \n",
       "468   0.036492   0.027100  0.027712    0.014941        0.014941     0.001292   \n",
       "469   0.022769   0.035395  0.035028    0.049386        0.049386     0.002052   \n",
       "470   0.046633   0.030246  0.041545    0.031151        0.031151     0.026400   \n",
       "471   0.031323  -0.000177 -0.021102   -0.043088       -0.043088    -0.028394   \n",
       "\n",
       "     Open_log  High_log   Low_log     Close_log  Adj Close_log  Volume_log  \n",
       "0    0.000000  0.000000  0.000000  0.000000e+00   0.000000e+00   -5.283552  \n",
       "1   -6.015071 -7.231057 -5.829121 -8.093779e+00  -8.093779e+00   -6.172442  \n",
       "2   -5.897557 -7.247495 -5.917713 -8.502469e+00  -8.502469e+00   -6.305026  \n",
       "3   -5.935462 -7.327998 -5.821506 -1.014148e+01  -1.014148e+01   -7.183236  \n",
       "4   -5.999109 -6.260812 -5.788271 -6.237474e+00  -6.237474e+00   -5.790187  \n",
       "..        ...       ...       ...           ...            ...         ...  \n",
       "467 -0.147592 -0.097328 -0.110134 -1.003478e-01  -1.003478e-01   -0.699305  \n",
       "468 -0.106167 -0.067895 -0.079664 -8.396493e-02  -8.396493e-02   -0.696707  \n",
       "469 -0.081163 -0.030713 -0.042433 -3.164600e-02  -3.164600e-02   -0.692596  \n",
       "470 -0.031825  0.000000  0.000000 -1.110223e-16  -1.110223e-16   -0.641171  \n",
       "471  0.000000 -0.000177 -0.021327 -4.404397e-02  -4.404397e-02   -0.696591  \n",
       "\n",
       "[472 rows x 19 columns]"
      ]
     },
     "execution_count": 65,
     "metadata": {},
     "output_type": "execute_result"
    }
   ],
   "source": [
    "normalized_df"
   ]
  },
  {
   "cell_type": "code",
   "execution_count": 66,
   "id": "56e5e56e-7250-459f-8e67-5ad0f9c31607",
   "metadata": {
    "tags": []
   },
   "outputs": [
    {
     "data": {
      "text/plain": [
       "Open              0\n",
       "High              0\n",
       "Low               0\n",
       "Close             0\n",
       "Adj Close         0\n",
       "Volume            0\n",
       "Date              0\n",
       "Open_diff         1\n",
       "High_diff         1\n",
       "Low_diff          1\n",
       "Close_diff        1\n",
       "Adj Close_diff    1\n",
       "Volume_diff       1\n",
       "Open_log          0\n",
       "High_log          0\n",
       "Low_log           0\n",
       "Close_log         0\n",
       "Adj Close_log     0\n",
       "Volume_log        0\n",
       "dtype: int64"
      ]
     },
     "execution_count": 66,
     "metadata": {},
     "output_type": "execute_result"
    }
   ],
   "source": [
    "normalized_df.isna().sum()"
   ]
  },
  {
   "cell_type": "code",
   "execution_count": 67,
   "id": "d1b5de33-baf6-4c0c-9995-65587faa36f0",
   "metadata": {
    "tags": []
   },
   "outputs": [],
   "source": [
    "normalized_df.dropna(inplace=True)"
   ]
  },
  {
   "cell_type": "code",
   "execution_count": 68,
   "id": "933c37a1-9917-46e3-b99c-e80accbcc78f",
   "metadata": {
    "tags": []
   },
   "outputs": [
    {
     "data": {
      "text/plain": [
       "Open              0\n",
       "High              0\n",
       "Low               0\n",
       "Close             0\n",
       "Adj Close         0\n",
       "Volume            0\n",
       "Date              0\n",
       "Open_diff         0\n",
       "High_diff         0\n",
       "Low_diff          0\n",
       "Close_diff        0\n",
       "Adj Close_diff    0\n",
       "Volume_diff       0\n",
       "Open_log          0\n",
       "High_log          0\n",
       "Low_log           0\n",
       "Close_log         0\n",
       "Adj Close_log     0\n",
       "Volume_log        0\n",
       "dtype: int64"
      ]
     },
     "execution_count": 68,
     "metadata": {},
     "output_type": "execute_result"
    }
   ],
   "source": [
    "normalized_df.isna().sum()"
   ]
  },
  {
   "cell_type": "markdown",
   "id": "b4dcb097-a343-44f2-9de7-cd3c634a64b9",
   "metadata": {},
   "source": [
    "## ARIMA MODEL"
   ]
  },
  {
   "cell_type": "code",
   "execution_count": 158,
   "id": "2d2aa72c-f4a4-426c-aa2d-61bdf8efe2eb",
   "metadata": {
    "tags": []
   },
   "outputs": [
    {
     "data": {
      "image/png": "[encoded data removed]",
      "text/plain": [
       "<Figure size 800x400 with 2 Axes>"
      ]
     },
     "metadata": {},
     "output_type": "display_data"
    }
   ],
   "source": [
    "y = normalized_df['Close']\n",
    "lag_acf = acf(y, nlags=25)\n",
    "lag_pacf = pacf(y, nlags=25, method='ols')\n",
    "plt.figure(figsize=(8, 4))\n",
    "plt.subplot(121)\n",
    "plot_acf(y, ax=plt.gca())\n",
    "plt.title('Autocorrelation Function')\n",
    "plt.subplot(122)\n",
    "plot_pacf(y, ax=plt.gca())\n",
    "plt.title('Partial Autocorrelation Function')\n",
    "plt.tight_layout()\n",
    "plt.show()"
   ]
  },
  {
   "cell_type": "code",
   "execution_count": 159,
   "id": "c25df84a-6327-49e7-9579-eed2e9b2cc1f",
   "metadata": {
    "tags": []
   },
   "outputs": [
    {
     "name": "stderr",
     "output_type": "stream",
     "text": [
      "C:\\Users\\Hp\\anaconda3\\Lib\\site-packages\\statsmodels\\tsa\\base\\tsa_model.py:473: ValueWarning: An unsupported index was provided and will be ignored when e.g. forecasting.\n",
      "  self._init_dates(dates, freq)\n",
      "C:\\Users\\Hp\\anaconda3\\Lib\\site-packages\\statsmodels\\tsa\\base\\tsa_model.py:473: ValueWarning: An unsupported index was provided and will be ignored when e.g. forecasting.\n",
      "  self._init_dates(dates, freq)\n",
      "C:\\Users\\Hp\\anaconda3\\Lib\\site-packages\\statsmodels\\tsa\\base\\tsa_model.py:473: ValueWarning: An unsupported index was provided and will be ignored when e.g. forecasting.\n",
      "  self._init_dates(dates, freq)\n",
      "C:\\Users\\Hp\\anaconda3\\Lib\\site-packages\\statsmodels\\base\\model.py:607: ConvergenceWarning: Maximum Likelihood optimization failed to converge. Check mle_retvals\n",
      "  warnings.warn(\"Maximum Likelihood optimization failed to \"\n"
     ]
    },
    {
     "name": "stdout",
     "output_type": "stream",
     "text": [
      "                               SARIMAX Results                                \n",
      "==============================================================================\n",
      "Dep. Variable:                  Close   No. Observations:                  471\n",
      "Model:                ARIMA(1, 1, 27)   Log Likelihood                1296.335\n",
      "Date:                Thu, 09 May 2024   AIC                          -2534.671\n",
      "Time:                        21:50:09   BIC                          -2414.241\n",
      "Sample:                             0   HQIC                         -2487.291\n",
      "                                - 471                                         \n",
      "Covariance Type:                  opg                                         \n",
      "==============================================================================\n",
      "                 coef    std err          z      P>|z|      [0.025      0.975]\n",
      "------------------------------------------------------------------------------\n",
      "ar.L1         -0.1483      0.417     -0.355      0.722      -0.966       0.670\n",
      "ma.L1          0.0714      0.417      0.171      0.864      -0.746       0.889\n",
      "ma.L2         -0.0308      0.045     -0.682      0.495      -0.119       0.058\n",
      "ma.L3          0.0642      0.034      1.896      0.058      -0.002       0.130\n",
      "ma.L4          0.0365      0.041      0.885      0.376      -0.044       0.117\n",
      "ma.L5          0.1395      0.037      3.818      0.000       0.068       0.211\n",
      "ma.L6         -0.0727      0.068     -1.076      0.282      -0.205       0.060\n",
      "ma.L7          0.1799      0.050      3.588      0.000       0.082       0.278\n",
      "ma.L8          0.1093      0.087      1.256      0.209      -0.061       0.280\n",
      "ma.L9         -0.0595      0.049     -1.220      0.222      -0.155       0.036\n",
      "ma.L10        -0.0107      0.043     -0.249      0.803      -0.095       0.073\n",
      "ma.L11         0.0444      0.039      1.138      0.255      -0.032       0.121\n",
      "ma.L12         0.0218      0.036      0.609      0.543      -0.048       0.092\n",
      "ma.L13         0.0473      0.035      1.348      0.178      -0.021       0.116\n",
      "ma.L14        -0.1015      0.032     -3.151      0.002      -0.165      -0.038\n",
      "ma.L15         0.0610      0.061      0.992      0.321      -0.059       0.181\n",
      "ma.L16         0.0896      0.049      1.818      0.069      -0.007       0.186\n",
      "ma.L17         0.0415      0.042      0.980      0.327      -0.042       0.125\n",
      "ma.L18        -0.1046      0.044     -2.363      0.018      -0.191      -0.018\n",
      "ma.L19        -0.0747      0.056     -1.335      0.182      -0.184       0.035\n",
      "ma.L20        -0.0919      0.048     -1.931      0.054      -0.185       0.001\n",
      "ma.L21        -0.0509      0.048     -1.052      0.293      -0.146       0.044\n",
      "ma.L22        -0.0877      0.046     -1.892      0.058      -0.179       0.003\n",
      "ma.L23         0.0991      0.055      1.816      0.069      -0.008       0.206\n",
      "ma.L24         0.1524      0.061      2.482      0.013       0.032       0.273\n",
      "ma.L25         0.0097      0.059      0.166      0.869      -0.106       0.125\n",
      "ma.L26        -0.1019      0.031     -3.238      0.001      -0.164      -0.040\n",
      "ma.L27         0.0815      0.056      1.461      0.144      -0.028       0.191\n",
      "sigma2         0.0002   1.02e-05     23.084      0.000       0.000       0.000\n",
      "===================================================================================\n",
      "Ljung-Box (L1) (Q):                   0.06   Jarque-Bera (JB):               601.75\n",
      "Prob(Q):                              0.80   Prob(JB):                         0.00\n",
      "Heteroskedasticity (H):              37.10   Skew:                            -0.46\n",
      "Prob(H) (two-sided):                  0.00   Kurtosis:                         8.47\n",
      "===================================================================================\n",
      "\n",
      "Warnings:\n",
      "[1] Covariance matrix calculated using the outer product of gradients (complex-step).\n"
     ]
    }
   ],
   "source": [
    "arima_model = ARIMA(y, order=(1,1,27))\n",
    "arima_result = arima_model.fit()\n",
    "print(arima_result.summary())\n",
    "predictionsArima = arima_result.predict()"
   ]
  },
  {
   "cell_type": "code",
   "execution_count": 160,
   "id": "166c1128-1224-4eb3-bc7a-bf78b618a8f5",
   "metadata": {
    "tags": []
   },
   "outputs": [
    {
     "data": {
      "image/png": "[encoded data removed]",
      "text/plain": [
       "<Figure size 1000x600 with 1 Axes>"
      ]
     },
     "metadata": {},
     "output_type": "display_data"
    }
   ],
   "source": [
    "predictions_arima = arima_result.predict()\n",
    "\n",
    "# Plotting\n",
    "plt.figure(figsize=(10, 6))\n",
    "plt.plot(y.index, y, label='Actual', color='blue')\n",
    "plt.plot(y.index, predictions_arima, label='Predictions (ARIMA)', color='red')\n",
    "plt.title('ARIMA Model Predictions')\n",
    "plt.xlabel('Date')\n",
    "plt.ylabel('Close Price')\n",
    "plt.legend()\n",
    "plt.show()"
   ]
  },
  {
   "cell_type": "code",
   "execution_count": 161,
   "id": "7cb378e6-1a59-4c70-b0f1-3a2af8dd6f06",
   "metadata": {
    "tags": []
   },
   "outputs": [
    {
     "name": "stdout",
     "output_type": "stream",
     "text": [
      "ARIMA Performance Metrics:\n",
      "RMSE: 0.021856323328632507\n",
      "MAE: 0.013609296329176011\n",
      "MAPE: 7.474625806956062\n"
     ]
    }
   ],
   "source": [
    "predictionsArima_aligned = predictionsArima[:-1]  #remove the last prediction to match the length of y\n",
    "rmse_arima = np.sqrt(mean_squared_error(y[1:], predictionsArima_aligned))\n",
    "mae_arima = mean_absolute_error(y[1:], predictionsArima_aligned)\n",
    "mape_arima = np.mean(np.abs((y[1:] - predictionsArima_aligned) / y[1:])) * 100\n",
    "\n",
    "print(\"ARIMA Performance Metrics:\")\n",
    "print(\"RMSE:\", rmse_arima)\n",
    "print(\"MAE:\", mae_arima)\n",
    "print(\"MAPE:\", mape_arima)"
   ]
  },
  {
   "cell_type": "markdown",
   "id": "7480cdf6-1b38-45d0-8628-fce79d53b13c",
   "metadata": {},
   "source": [
    "## ANN"
   ]
  },
  {
   "cell_type": "code",
   "execution_count": 166,
   "id": "0777e68f-bc87-488e-b69a-e1844b799e92",
   "metadata": {},
   "outputs": [],
   "source": [
    "X = normalized_df[['Open', 'High', 'Low', 'Adj Close', 'Volume']]\n",
    "y = normalized_df['Close']"
   ]
  },
  {
   "cell_type": "code",
   "execution_count": 167,
   "id": "5719ffea-d7f1-404d-bba3-8a9228b43caa",
   "metadata": {
    "tags": []
   },
   "outputs": [],
   "source": [
    "X_train, X_test, y_train, y_test = train_test_split(X, y, test_size=0.2, random_state=42)"
   ]
  },
  {
   "cell_type": "code",
   "execution_count": 170,
   "id": "22c5d39e-663d-4a5e-9f5f-9884dd6297b9",
   "metadata": {
    "tags": []
   },
   "outputs": [
    {
     "name": "stdout",
     "output_type": "stream",
     "text": [
      "Epoch 1/5\n"
     ]
    },
    {
     "name": "stderr",
     "output_type": "stream",
     "text": [
      "C:\\Users\\Hp\\anaconda3\\Lib\\site-packages\\keras\\src\\layers\\core\\dense.py:87: UserWarning: Do not pass an `input_shape`/`input_dim` argument to a layer. When using Sequential models, prefer using an `Input(shape)` object as the first layer in the model instead.\n",
      "  super().__init__(activity_regularizer=activity_regularizer, **kwargs)\n"
     ]
    },
    {
     "name": "stdout",
     "output_type": "stream",
     "text": [
      "\u001b[1m12/12\u001b[0m \u001b[32m━━━━━━━━━━━━━━━━━━━━\u001b[0m\u001b[37m\u001b[0m \u001b[1m2s\u001b[0m 34ms/step - loss: 0.4923 - val_loss: 0.2357\n",
      "Epoch 2/5\n",
      "\u001b[1m12/12\u001b[0m \u001b[32m━━━━━━━━━━━━━━━━━━━━\u001b[0m\u001b[37m\u001b[0m \u001b[1m0s\u001b[0m 8ms/step - loss: 0.1106 - val_loss: 0.0453\n",
      "Epoch 3/5\n",
      "\u001b[1m12/12\u001b[0m \u001b[32m━━━━━━━━━━━━━━━━━━━━\u001b[0m\u001b[37m\u001b[0m \u001b[1m0s\u001b[0m 8ms/step - loss: 0.0210 - val_loss: 0.0063\n",
      "Epoch 4/5\n",
      "\u001b[1m12/12\u001b[0m \u001b[32m━━━━━━━━━━━━━━━━━━━━\u001b[0m\u001b[37m\u001b[0m \u001b[1m0s\u001b[0m 7ms/step - loss: 0.0034 - val_loss: 0.0017\n",
      "Epoch 5/5\n",
      "\u001b[1m12/12\u001b[0m \u001b[32m━━━━━━━━━━━━━━━━━━━━\u001b[0m\u001b[37m\u001b[0m \u001b[1m0s\u001b[0m 9ms/step - loss: 0.0012 - val_loss: 8.5411e-04\n",
      "\u001b[1m3/3\u001b[0m \u001b[32m━━━━━━━━━━━━━━━━━━━━\u001b[0m\u001b[37m\u001b[0m \u001b[1m0s\u001b[0m 6ms/step - loss: 9.8353e-04\n",
      "Test Loss: 0.0008541123825125396\n"
     ]
    }
   ],
   "source": [
    "input_dim = X.shape[1]\n",
    "model = Sequential()\n",
    "model.add(Dense(64, input_dim=input_dim, activation='relu'))\n",
    "model.add(Dense(32, activation='relu'))\n",
    "model.add(Dense(1, activation='linear'))\n",
    "\n",
    "model.compile(loss='mean_squared_error', optimizer='adam')\n",
    "\n",
    "model.fit(X_train, y_train, epochs=5, batch_size=32, validation_data=(X_test, y_test))\n",
    "\n",
    "loss = model.evaluate(X_test, y_test)\n",
    "print('Test Loss:', loss)\n"
   ]
  },
  {
   "cell_type": "markdown",
   "id": "3fd33628-1134-4a8b-b77a-26a79a070332",
   "metadata": {},
   "source": [
    "## SARIMA"
   ]
  },
  {
   "cell_type": "code",
   "execution_count": 171,
   "id": "83d837bd-ecf6-4d5d-b885-8048a0c4ae27",
   "metadata": {
    "tags": []
   },
   "outputs": [
    {
     "data": {
      "image/png": "[encoded data removed]",
      "text/plain": [
       "<Figure size 1000x800 with 2 Axes>"
      ]
     },
     "metadata": {},
     "output_type": "display_data"
    }
   ],
   "source": [
    "fig, ax = plt.subplots(2, 1, figsize=(10, 8))\n",
    "plot_acf(normalized_df['Close'], ax=ax[0], lags=40)\n",
    "plot_pacf(normalized_df['Close'], ax=ax[1], lags=40)\n",
    "plt.show()\n",
    "\n",
    "# Calculate ACF and PACF values for further analysis\n",
    "acf_values = acf(normalized_df['Close'], nlags=40)\n",
    "pacf_values = pacf(normalized_df['Close'], nlags=40)\n"
   ]
  },
  {
   "cell_type": "code",
   "execution_count": 182,
   "id": "e9332e37-0d08-4f6a-998d-88c03f570a78",
   "metadata": {
    "tags": []
   },
   "outputs": [
    {
     "name": "stderr",
     "output_type": "stream",
     "text": [
      "C:\\Users\\Hp\\anaconda3\\Lib\\site-packages\\statsmodels\\tsa\\base\\tsa_model.py:473: ValueWarning: An unsupported index was provided and will be ignored when e.g. forecasting.\n",
      "  self._init_dates(dates, freq)\n",
      "C:\\Users\\Hp\\anaconda3\\Lib\\site-packages\\statsmodels\\tsa\\base\\tsa_model.py:473: ValueWarning: An unsupported index was provided and will be ignored when e.g. forecasting.\n",
      "  self._init_dates(dates, freq)\n",
      "C:\\Users\\Hp\\anaconda3\\Lib\\site-packages\\statsmodels\\base\\model.py:607: ConvergenceWarning: Maximum Likelihood optimization failed to converge. Check mle_retvals\n",
      "  warnings.warn(\"Maximum Likelihood optimization failed to \"\n"
     ]
    },
    {
     "name": "stdout",
     "output_type": "stream",
     "text": [
      "                                      SARIMAX Results                                       \n",
      "============================================================================================\n",
      "Dep. Variable:                                Close   No. Observations:                  471\n",
      "Model:             SARIMAX(1, 1, 27)x(1, 1, [], 12)   Log Likelihood                1242.855\n",
      "Date:                              Thu, 09 May 2024   AIC                          -2425.709\n",
      "Time:                                      21:58:57   BIC                          -2301.903\n",
      "Sample:                                           0   HQIC                         -2376.948\n",
      "                                              - 471                                         \n",
      "Covariance Type:                                opg                                         \n",
      "==============================================================================\n",
      "                 coef    std err          z      P>|z|      [0.025      0.975]\n",
      "------------------------------------------------------------------------------\n",
      "ar.L1         -0.1715      4.255     -0.040      0.968      -8.511       8.168\n",
      "ma.L1          0.0539      4.258      0.013      0.990      -8.291       8.399\n",
      "ma.L2          0.0418      0.499      0.084      0.933      -0.936       1.020\n",
      "ma.L3          0.0286      0.265      0.108      0.914      -0.490       0.547\n",
      "ma.L4         -0.0572      0.095     -0.603      0.546      -0.243       0.129\n",
      "ma.L5          0.0112      0.252      0.044      0.965      -0.483       0.506\n",
      "ma.L6         -0.0820      0.105     -0.785      0.433      -0.287       0.123\n",
      "ma.L7          0.1969      0.357      0.552      0.581      -0.502       0.896\n",
      "ma.L8          0.0931      0.900      0.104      0.918      -1.670       1.856\n",
      "ma.L9         -0.0550      0.248     -0.222      0.824      -0.540       0.430\n",
      "ma.L10         0.0876      0.282      0.311      0.756      -0.464       0.640\n",
      "ma.L11        -0.0090      0.415     -0.022      0.983      -0.823       0.805\n",
      "ma.L12        -0.2251      0.172     -1.307      0.191      -0.563       0.112\n",
      "ma.L13        -0.0556      0.944     -0.059      0.953      -1.906       1.795\n",
      "ma.L14        -0.1401      0.076     -1.848      0.065      -0.289       0.008\n",
      "ma.L15         0.0353      0.582      0.061      0.952      -1.105       1.176\n",
      "ma.L16         0.1467      0.267      0.550      0.583      -0.376       0.670\n",
      "ma.L17        -0.0531      0.580     -0.091      0.927      -1.190       1.084\n",
      "ma.L18        -0.0181      0.329     -0.055      0.956      -0.663       0.627\n",
      "ma.L19        -0.0925      0.046     -2.002      0.045      -0.183      -0.002\n",
      "ma.L20        -0.0871      0.407     -0.214      0.830      -0.884       0.710\n",
      "ma.L21        -0.0564      0.298     -0.189      0.850      -0.641       0.529\n",
      "ma.L22        -0.1180      0.194     -0.609      0.542      -0.498       0.262\n",
      "ma.L23         0.0608      0.472      0.129      0.898      -0.865       0.987\n",
      "ma.L24        -0.5246      0.374     -1.401      0.161      -1.258       0.209\n",
      "ma.L25        -0.0520      2.297     -0.023      0.982      -4.553       4.449\n",
      "ma.L26         0.0536      0.180      0.298      0.766      -0.299       0.406\n",
      "ma.L27         0.0181      0.205      0.089      0.929      -0.383       0.419\n",
      "ar.S.L12      -0.6661      0.100     -6.669      0.000      -0.862      -0.470\n",
      "sigma2         0.0002   1.32e-05     18.658      0.000       0.000       0.000\n",
      "===================================================================================\n",
      "Ljung-Box (L1) (Q):                   0.02   Jarque-Bera (JB):               420.20\n",
      "Prob(Q):                              0.90   Prob(JB):                         0.00\n",
      "Heteroskedasticity (H):              23.80   Skew:                            -0.43\n",
      "Prob(H) (two-sided):                  0.00   Kurtosis:                         7.61\n",
      "===================================================================================\n",
      "\n",
      "Warnings:\n",
      "[1] Covariance matrix calculated using the outer product of gradients (complex-step).\n"
     ]
    }
   ],
   "source": [
    "# SARIMA Model Identification\n",
    "# Look for significant ACF and PACF values to determine SARIMA parameters\n",
    "# Example: For non-seasonal parameters (p, d, q)\n",
    "p = 1  # AR order (from PACF)\n",
    "d = 1  # Differencing order (based on the differencing applied)\n",
    "q = 27  # MA order (from ACF)\n",
    "\n",
    "# Example: For seasonal parameters (P, D, Q, m)\n",
    "P = 1  # Seasonal AR order (from seasonal PACF)\n",
    "D = 1  # Seasonal differencing order (can be 0 or 1 based on the seasonality)\n",
    "Q = 0  # Seasonal MA order (from seasonal ACF)\n",
    "m = 12  # Seasonal period (12 for monthly data)\n",
    "\n",
    "# Fit SARIMA model\n",
    "model = SARIMAX(normalized_df['Close'], order=(p, d, q), seasonal_order=(P, D, Q, m))\n",
    "results = model.fit()\n",
    "\n",
    "# Display model summary\n",
    "print(results.summary())"
   ]
  },
  {
   "cell_type": "code",
   "execution_count": 183,
   "id": "046decdc-51e4-4dc9-bbf3-25567c508adc",
   "metadata": {
    "tags": []
   },
   "outputs": [
    {
     "data": {
      "image/png": "[encoded data removed]",
      "text/plain": [
       "<Figure size 1200x600 with 1 Axes>"
      ]
     },
     "metadata": {},
     "output_type": "display_data"
    }
   ],
   "source": [
    "plt.figure(figsize=(12, 6))\n",
    "plt.plot(normalized_df['Close'], label='Actual', color='blue')\n",
    "fitted_values = results.fittedvalues\n",
    "plt.plot(fitted_values, label='Fitted', color='red')\n",
    "plt.title('SARIMA Model Fitted Values vs. Actual')\n",
    "plt.xlabel('Date')\n",
    "plt.ylabel('Close Difference')\n",
    "plt.legend()\n",
    "plt.show()"
   ]
  },
  {
   "cell_type": "code",
   "execution_count": null,
   "id": "732ce0aa-bd24-4bc2-95da-07df655fe32e",
   "metadata": {
    "tags": []
   },
   "outputs": [],
   "source": []
  },
  {
   "cell_type": "code",
   "execution_count": 189,
   "id": "2bcf1e3e-5be3-4fdd-b5a0-874859428dc3",
   "metadata": {
    "tags": []
   },
   "outputs": [
    {
     "name": "stdout",
     "output_type": "stream",
     "text": [
      "Mean Absolute Error: 1.677928949316712\n",
      "Mean Squared Error: 2.9626608782159787\n",
      "Root Mean Squared Error: 1.7212381817215126\n"
     ]
    },
    {
     "name": "stderr",
     "output_type": "stream",
     "text": [
      "C:\\Users\\Hp\\anaconda3\\Lib\\site-packages\\statsmodels\\tsa\\base\\tsa_model.py:836: ValueWarning: No supported index is available. Prediction results will be given with an integer index beginning at `start`.\n",
      "  return get_prediction_index(\n",
      "C:\\Users\\Hp\\anaconda3\\Lib\\site-packages\\statsmodels\\tsa\\base\\tsa_model.py:836: FutureWarning: No supported index is available. In the next version, calling this method in a model without a supported index will result in an exception.\n",
      "  return get_prediction_index(\n"
     ]
    }
   ],
   "source": [
    "# Forecast Accuracy Metrics\n",
    "forecast = results.get_forecast(steps=len(normalized_df))\n",
    "predicted_values = forecast.predicted_mean\n",
    "actual_values = normalized_df['Close']\n",
    "mae = mean_absolute_error(actual_values, predicted_values)\n",
    "mse = mean_squared_error(actual_values, predicted_values)\n",
    "rmse = np.sqrt(mse)\n",
    "print('Mean Absolute Error:', mae)\n",
    "print('Mean Squared Error:', mse)\n",
    "print('Root Mean Squared Error:', rmse)"
   ]
  },
  {
   "cell_type": "code",
   "execution_count": null,
   "id": "dfcb3c98-90e8-4696-81a1-b0156880e2d7",
   "metadata": {
    "tags": []
   },
   "outputs": [],
   "source": []
  },
  {
   "cell_type": "markdown",
   "id": "7e94f264-8b89-42ae-b7be-60761c3ffa97",
   "metadata": {},
   "source": [
    "## ETS"
   ]
  },
  {
   "cell_type": "code",
   "execution_count": 112,
   "id": "7a277084-f04d-489e-a39a-6e16486a004c",
   "metadata": {
    "tags": []
   },
   "outputs": [
    {
     "name": "stderr",
     "output_type": "stream",
     "text": [
      "C:\\Users\\Hp\\anaconda3\\Lib\\site-packages\\statsmodels\\tsa\\base\\tsa_model.py:473: ValueWarning: An unsupported index was provided and will be ignored when e.g. forecasting.\n",
      "  self._init_dates(dates, freq)\n",
      "C:\\Users\\Hp\\anaconda3\\Lib\\site-packages\\statsmodels\\tsa\\base\\tsa_model.py:836: ValueWarning: No supported index is available. Prediction results will be given with an integer index beginning at `start`.\n",
      "  return get_prediction_index(\n",
      "C:\\Users\\Hp\\anaconda3\\Lib\\site-packages\\statsmodels\\tsa\\base\\tsa_model.py:836: FutureWarning: No supported index is available. In the next version, calling this method in a model without a supported index will result in an exception.\n",
      "  return get_prediction_index(\n"
     ]
    },
    {
     "data": {
      "image/png": "[encoded data removed]",
      "text/plain": [
       "<Figure size 640x480 with 1 Axes>"
      ]
     },
     "metadata": {},
     "output_type": "display_data"
    }
   ],
   "source": [
    "from statsmodels.tsa.holtwinters import ExponentialSmoothing\n",
    "model = ExponentialSmoothing(normalized_df['Close'], trend='add', seasonal='add', seasonal_periods=12)\n",
    "results = model.fit()\n",
    "\n",
    "# Forecast future values\n",
    "forecast = results.forecast(steps=12)  # Forecast for the next 12 time periods\n",
    "# Plot forecasted values\n",
    "plt.plot(normalized_df.index, normalized_df['Close'], label='Actual')\n",
    "plt.plot(forecast.index, forecast, label='Forecast')\n",
    "plt.xlabel('Date')\n",
    "plt.ylabel('Value')\n",
    "plt.title('Triple Exponential Smoothing Forecast')\n",
    "plt.legend()\n",
    "plt.show()"
   ]
  },
  {
   "cell_type": "code",
   "execution_count": 113,
   "id": "cbf5d308-0d4a-4d0d-9c0f-f3ae42cbff3b",
   "metadata": {
    "tags": []
   },
   "outputs": [
    {
     "name": "stdout",
     "output_type": "stream",
     "text": [
      "Mean Absolute Error: 0.09140861622616114\n",
      "Mean Squared Error: 0.011327748762804525\n",
      "Root Mean Squared Error: 0.106431897299656\n"
     ]
    }
   ],
   "source": [
    "actual_values = normalized_df['Close'][-12:]  # Actual values for the last 12 time periods\n",
    "mae = mean_absolute_error(actual_values, forecast)\n",
    "mse = mean_squared_error(actual_values, forecast)\n",
    "rmse = np.sqrt(mse)\n",
    "print('Mean Absolute Error:', mae)\n",
    "print('Mean Squared Error:', mse)\n",
    "print('Root Mean Squared Error:', rmse)"
   ]
  },
  {
   "cell_type": "markdown",
   "id": "a593f1f8-df22-441e-b21e-a0227ddadb8f",
   "metadata": {},
   "source": [
    "## SVR"
   ]
  },
  {
   "cell_type": "code",
   "execution_count": 114,
   "id": "ab891af1-1714-4815-b487-927a53f780a8",
   "metadata": {
    "tags": []
   },
   "outputs": [
    {
     "name": "stdout",
     "output_type": "stream",
     "text": [
      "Mean Squared Error: 0.004652633564580203\n"
     ]
    }
   ],
   "source": [
    "from sklearn.svm import SVR\n",
    "from sklearn.model_selection import GridSearchCV\n",
    "svr = SVR(kernel='rbf')\n",
    "\n",
    "# Define parameter grid for hyperparameter tuning\n",
    "param_grid = {\n",
    "    'C': [0.1, 1, 10],\n",
    "    'gamma': ['scale', 'auto']\n",
    "}\n",
    "\n",
    "# Perform grid search cross-validation\n",
    "grid_search = GridSearchCV(estimator=svr, param_grid=param_grid, cv=5, scoring='neg_mean_squared_error')\n",
    "grid_search.fit(X_train, y_train)\n",
    "\n",
    "# Get best model from grid search\n",
    "best_svr = grid_search.best_estimator_\n",
    "\n",
    "# Fit best model to training data\n",
    "best_svr.fit(X_train, y_train)\n",
    "\n",
    "# Make predictions on testing data\n",
    "predictions = best_svr.predict(X_test)\n",
    "\n",
    "# Evaluate model performance\n",
    "mse = mean_squared_error(y_test, predictions)\n",
    "print('Mean Squared Error:', mse)"
   ]
  },
  {
   "cell_type": "markdown",
   "id": "a33a1a74-c462-4984-9c24-320afaa71193",
   "metadata": {},
   "source": [
    "## LSTM"
   ]
  },
  {
   "cell_type": "code",
   "execution_count": null,
   "id": "187c980f-46a4-4059-9396-6a7764d1800c",
   "metadata": {},
   "outputs": [],
   "source": []
  }
 ],
 "metadata": {
  "kernelspec": {
   "display_name": "Python 3 (ipykernel)",
   "language": "python",
   "name": "python3"
  },
  "language_info": {
   "codemirror_mode": {
    "name": "ipython",
    "version": 3
   },
   "file_extension": ".py",
   "mimetype": "text/x-python",
   "name": "python",
   "nbconvert_exporter": "python",
   "pygments_lexer": "ipython3",
   "version": "3.11.4"
  }
 },
 "nbformat": 4,
 "nbformat_minor": 5
}
